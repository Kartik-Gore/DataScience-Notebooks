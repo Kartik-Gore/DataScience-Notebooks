{
 "cells": [
  {
   "cell_type": "markdown",
   "id": "8f33b174-8049-44ac-9a40-f9f992a08b4a",
   "metadata": {},
   "source": [
    "# Data Science Tools and Ecosyste"
   ]
  },
  {
   "cell_type": "markdown",
   "id": "928ab582-f0dd-46fc-b88a-53167740e020",
   "metadata": {},
   "source": [
    "In this notebook, Data Science Tools and Ecosystem are summarized."
   ]
  },
  {
   "cell_type": "markdown",
   "id": "97e80591-2de0-48f0-bb29-72167db314b9",
   "metadata": {},
   "source": [
    "Some of the popular languages that Data Scientists use are:\n",
    "1. Python\n",
    "2. R\n",
    "3. SQL\n"
   ]
  },
  {
   "cell_type": "markdown",
   "id": "458aa038-ad85-419d-89c4-89fe33f5d09e",
   "metadata": {},
   "source": [
    "Some of the commonly used libraries used by Data Scientists include:\n",
    "1. NumPy\n",
    "2. pandas\n",
    "3. scikit-learn\n"
   ]
  },
  {
   "cell_type": "markdown",
   "id": "c7701c07-4f95-4835-8b2b-c14795433141",
   "metadata": {},
   "source": [
    "| Data Science Tools |\n",
    "|--------------------|\n",
    "| Jupyter Notebook / JupyterLab |\n",
    "| RStudio |\n",
    "| Spyder |\n"
   ]
  },
  {
   "cell_type": "markdown",
   "id": "9ee36191-a07e-4bf6-87f9-a518fbeea70f",
   "metadata": {},
   "source": [
    "### Below are a few examples of evaluating arithmetic expressions in Python.\n"
   ]
  },
  {
   "cell_type": "code",
   "execution_count": 4,
   "id": "baed1a8f-b860-4fef-8e1c-64f1b3266497",
   "metadata": {},
   "outputs": [
    {
     "data": {
      "text/plain": [
       "17"
      ]
     },
     "execution_count": 4,
     "metadata": {},
     "output_type": "execute_result"
    }
   ],
   "source": [
    "# This a simple arithmetic expression to mutiply then add integers\n",
    "(3*4)+5\n"
   ]
  },
  {
   "cell_type": "code",
   "execution_count": 5,
   "id": "fb0c7d42-52a7-4084-bdb3-c620df5fdb52",
   "metadata": {},
   "outputs": [
    {
     "data": {
      "text/plain": [
       "(3.3333333333333335, '3 hours and 20 minutes')"
      ]
     },
     "execution_count": 5,
     "metadata": {},
     "output_type": "execute_result"
    }
   ],
   "source": [
    "# This will convert 200 minutes to hours by dividing by 60\n",
    "hours = 200 / 60\n",
    "# Show decimal hours and a human-friendly H hours M minutes string\n",
    "hours, f\"{200//60} hours and {200%60} minutes\"\n"
   ]
  },
  {
   "cell_type": "markdown",
   "id": "24ff4019-4da3-4ea5-bcfa-34592230f4f5",
   "metadata": {},
   "source": [
    "**Objectives:**\n",
    "\n",
    "- List popular languages for Data Science\n",
    "- List common libraries used in Data Science\n",
    "- Show simple Python arithmetic examples\n",
    "- Save and share a Jupyter Notebook on GitHub\n"
   ]
  },
  {
   "cell_type": "markdown",
   "id": "0ceda8d0-e794-4caa-8516-2745cc724414",
   "metadata": {},
   "source": [
    "## Author\n",
    "\n",
    "Kartik Gore\n"
   ]
  }
 ],
 "metadata": {
  "kernelspec": {
   "display_name": "Python 3 (ipykernel)",
   "language": "python",
   "name": "python3"
  },
  "language_info": {
   "codemirror_mode": {
    "name": "ipython",
    "version": 3
   },
   "file_extension": ".py",
   "mimetype": "text/x-python",
   "name": "python",
   "nbconvert_exporter": "python",
   "pygments_lexer": "ipython3",
   "version": "3.13.5"
  }
 },
 "nbformat": 4,
 "nbformat_minor": 5
}
